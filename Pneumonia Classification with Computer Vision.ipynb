{
 "cells": [
  {
   "cell_type": "markdown",
   "id": "92c0925b",
   "metadata": {},
   "source": [
    "# Final Project for DTSA-5510\n",
    "\n",
    "Kevin Juandi <br> 2023-11-25<br> https://github.com/Chiuchiyin/\n",
    "\n",
    "## Introduction and Problem Description\n",
    "\n",
    "Welcome to my final project for DTSA-5510! Before running this notebook, please ensure you have all required dependancies installed in your build. All required packages are listed in the next section. If you want to run the code, some parts of the code might take very long time to run. At the time of this writing, I have not attempted to train a model but I expect it to take a couple of hours. Please be patient with it. Thank you for reviewing my project!\n",
    "\n",
    "For the previous module **DTSA-5509**, I worked on [Heartbeat ECG Classification](https://github.com/Chiuchiyin/Heartbeat-ECG-Classification). I would like to expand my repetoire in health analytics and have decided to work on Pneumonia Classification.\n",
    "\n",
    "The data I will use can be found at Mendeley Data[<sup>[1]</sup>](https://data.mendeley.com/datasets/rscbjbr9sj/3). The data contain images of both chest X-Rays and Optical Coherence Tomography. The original paper uses deep learning algorithm which I would not attempt to replicate due to computational requirements. I will just use the chest X-rays in this project. I have included the data in the Github Repository so if you decided to download the data so you don't have to download the entire dataset and extract them yourself.\n",
    "\n",
    "The chest X-ray data in \"train\" contains 1.18 GB of data - consisting of 1349 \"normal\" chest X-rays, 1345 X-rays with viral pneumonia, and 2538 X-rays with bacterial pneumonia. The \"test\" data contains 105 MB of data - there are 234 \"normal\" chest X-rays, 148 with viral pneumonia, and 242 with bacterial pneumonia.\n",
    "\n",
    "## Loading dependancies"
   ]
  },
  {
   "cell_type": "code",
   "execution_count": 1,
   "id": "fc5d92e0",
   "metadata": {
    "ExecuteTime": {
     "end_time": "2023-11-26T04:01:39.049254Z",
     "start_time": "2023-11-26T04:01:36.542085Z"
    }
   },
   "outputs": [],
   "source": [
    "import numpy as np\n",
    "import pandas as pd\n",
    "import seaborn as sns\n",
    "import cv2 as cv\n",
    "import matplotlib.pyplot as plt\n",
    "import os\n",
    "import math\n",
    "from sklearn.decomposition import PCA, NMF\n",
    "from sklearn.cluster import KMeans, AgglomerativeClustering, DBSCAN\n",
    "from sklearn.metrics import confusion_matrix, accuracy_score, precision_score, recall_score\n",
    "from sklearn.metrics.pairwise import cosine_similarity\n",
    "from sklearn.ensemble import RandomForestClassifier\n",
    "import time\n",
    "import itertools\n",
    "import random\n",
    "from collections import Counter\n",
    "%matplotlib inline"
   ]
  },
  {
   "cell_type": "markdown",
   "id": "432f52dd",
   "metadata": {},
   "source": [
    "## Helper functions\n",
    "We would use these functions to reduce clutter"
   ]
  },
  {
   "cell_type": "code",
   "execution_count": 2,
   "id": "3fda2a0a",
   "metadata": {
    "ExecuteTime": {
     "end_time": "2023-11-26T04:01:39.064950Z",
     "start_time": "2023-11-26T04:01:39.050258Z"
    }
   },
   "outputs": [],
   "source": [
    "def readXRay(path, pixDesired = 1000, n_imgs = \"use all\"):\n",
    "    \"\"\"\n",
    "        input: string path, of form (\"./data/ os.listdir(parent directory)\n",
    "        input: int pixDesired, the number of pixels pixDesired X pixDesired in which to read the data. If None, no transformation is performed.\n",
    "        input: int n_imgs, number of images to be read from file. Preset is string \"use all\", which uses all the images in the provided path.\n",
    "        output: np.ndarray data\n",
    "    \"\"\"\n",
    "    \n",
    "    # Initialize data\n",
    "    firstImagePath = path + os.listdir(path)[0]\n",
    "    firstPic = cv.imread(firstImagePath, 0)\n",
    "    if pixDesired != None:\n",
    "        data = cv.resize(firstPic, (pixDesired, pixDesired))\n",
    "        data = data.reshape(1, pixDesired ** 2)# If performance allows, increase resize!\n",
    "    else:\n",
    "        data = data.reshape(1, firstPic.shape[0] * firstPic.shape[1])\n",
    "    \n",
    "    # Populate data\n",
    "    \n",
    "    if n_imgs == \"use all\":\n",
    "        for img in os.listdir(path)[1:]:\n",
    "            filepath = path + img\n",
    "            pic = cv.imread(filepath, 0)\n",
    "            if pixDesired != None:\n",
    "                pic = cv.resize(pic, (pixDesired, pixDesired))\n",
    "                pic = pic.reshape(1, pixDesired ** 2)\n",
    "            else:\n",
    "                pic = pic.reshape(1, pic.shape[0] * pic.shape[1])\n",
    "            \n",
    "            data = np.append(data, pic, axis = 0)\n",
    "            \n",
    "    else:\n",
    "        for img in os.listdir(path)[1:n_imgs]:\n",
    "            filepath = path + img\n",
    "            pic = cv.imread(filepath, 0)\n",
    "            if pixDesired != None:\n",
    "                pic = cv.resize(pic, (pixDesired, pixDesired)) # If performance allows, increase resize!\n",
    "                pic = pic.reshape(1, pixDesired ** 2)\n",
    "            else:\n",
    "                pic = pic.reshape(1, pic.shape[0] * pic.shape[1])\n",
    "            \n",
    "            data = np.append(data, pic, axis = 0)\n",
    "        \n",
    "    return(data)"
   ]
  },
  {
   "cell_type": "markdown",
   "id": "3e2aca55",
   "metadata": {},
   "source": [
    "## Load the Data and Perform EDA\n",
    "### Loading the Data"
   ]
  },
  {
   "cell_type": "code",
   "execution_count": 3,
   "id": "df401920",
   "metadata": {
    "ExecuteTime": {
     "end_time": "2023-11-26T04:01:39.080237Z",
     "start_time": "2023-11-26T04:01:39.068808Z"
    }
   },
   "outputs": [
    {
     "name": "stdout",
     "output_type": "stream",
     "text": [
      "C:\\Users\\silve\\OneDrive\\Dokumente\\Github\\DTSA5510-Unsupervised-Learning-Final-Project\\chest_xray\n"
     ]
    },
    {
     "data": {
      "text/plain": [
       "['reducedData.csv', 'test', 'train']"
      ]
     },
     "execution_count": 3,
     "metadata": {},
     "output_type": "execute_result"
    }
   ],
   "source": [
    "%cd \".\\chest_xray\"\n",
    "\n",
    "os.listdir()"
   ]
  },
  {
   "cell_type": "code",
   "execution_count": 4,
   "id": "d7d7aa6c",
   "metadata": {
    "ExecuteTime": {
     "end_time": "2023-11-26T04:01:42.821476Z",
     "start_time": "2023-11-26T04:01:39.082753Z"
    }
   },
   "outputs": [
    {
     "name": "stdout",
     "output_type": "stream",
     "text": [
      "(2476, 2572)\n",
      "0.09709739685058594\n"
     ]
    }
   ],
   "source": [
    "# Example XRay. Citation https://www.geeksforgeeks.org/python-opencv-cv2-imshow-method/\n",
    "# Set file path\n",
    "startTime = time.time()\n",
    "repopath = \"./train/\" + \"NORMAL/\"\n",
    "filepath = repopath + os.listdir(repopath)[0]\n",
    "\n",
    "#Read in test image\n",
    "testpic = cv.imread(filepath, 0)\n",
    "#testpic = cv.resize(testpic, (256, 256))\n",
    "\n",
    "endTime = time.time()\n",
    "\n",
    "##Show test image\n",
    "testWindow = \"Example XRAY. This is a healthy lung.\"\n",
    "cv.imshow(testWindow, testpic)\n",
    "cv.waitKey(0)  #Wait for the user to press a key before closing the window\n",
    "cv.destroyAllWindows() \n",
    "\n",
    "print(testpic.shape)\n",
    "print(endTime - startTime)"
   ]
  },
  {
   "cell_type": "markdown",
   "id": "48c38d03",
   "metadata": {},
   "source": [
    "From running the code above, we could see that the images are particularly large but are they all in the same size? Let us check the size of the next image."
   ]
  },
  {
   "cell_type": "code",
   "execution_count": 8,
   "id": "2965492b",
   "metadata": {
    "ExecuteTime": {
     "end_time": "2023-11-26T04:03:40.342988Z",
     "start_time": "2023-11-26T04:03:40.297199Z"
    }
   },
   "outputs": [
    {
     "name": "stdout",
     "output_type": "stream",
     "text": [
      "(1751, 1982)\n"
     ]
    }
   ],
   "source": [
    "filepath1 = repopath + os.listdir(repopath)[1]\n",
    "testpic1 = cv.imread(filepath1, 0)\n",
    "print(testpic1.shape)"
   ]
  },
  {
   "cell_type": "markdown",
   "id": "2bb6c47a",
   "metadata": {},
   "source": [
    "This confirms that not all of the images are the same dimension. We would therefore need to resize the images to the same size. to do this, we use the pixDesired option to standardize the images to a square of desired size. For computational reason, we set the auto selection of 1000 pixels per image."
   ]
  },
  {
   "cell_type": "code",
   "execution_count": 5,
   "id": "65816107",
   "metadata": {
    "ExecuteTime": {
     "end_time": "2023-11-26T04:01:42.836724Z",
     "start_time": "2023-11-26T04:01:42.824647Z"
    },
    "scrolled": true
   },
   "outputs": [],
   "source": [
    "# Set up paths of repositories to read data from\n",
    "paths = [\"./train/NORMAL/\", \"./train/VIRAL/\", \"./train/BACTERIAL/\", \n",
    "         \"./test/NORMAL/\", \"./test/VIRAL/\", \"./test/BACTERIAL/\"]"
   ]
  },
  {
   "cell_type": "code",
   "execution_count": 16,
   "id": "60b0f041",
   "metadata": {
    "ExecuteTime": {
     "end_time": "2023-11-26T04:24:20.410217Z",
     "start_time": "2023-11-26T04:23:30.688486Z"
    }
   },
   "outputs": [
    {
     "name": "stdout",
     "output_type": "stream",
     "text": [
      "20.751718282699585\n",
      "(1349, 10000)\n",
      "7.880717754364014\n",
      "(1345, 10000)\n",
      "17.327439308166504\n",
      "(2538, 10000)\n",
      "2.386894702911377\n",
      "(234, 10000)\n",
      "0.5994760990142822\n",
      "(148, 10000)\n",
      "0.6994566917419434\n",
      "(242, 10000)\n",
      "49.6903555393219\n",
      "(5856, 10000)\n"
     ]
    }
   ],
   "source": [
    "#Initialize data\n",
    "firststartTime = time.time()\n",
    "data = readXRay(path = paths[0], pixDesired = 100, n_imgs = \"use all\")\n",
    "firstendTime = time.time()\n",
    "print(firstendTime - firststartTime) #How long did this repo take to convert?\n",
    "print(data.shape) #How many files in this repo?\n",
    "\n",
    "#Populate data with the other repositories\n",
    "for path in paths[1:]:\n",
    "    startTime = time.time()\n",
    "    this_data = readXRay(path = path, pixDesired = 100, n_imgs = \"use all\")\n",
    "    endTime = time.time()\n",
    "\n",
    "    print(endTime - startTime) #How long did this repo take to convert?\n",
    "    print(this_data.shape) #How many files in this repo?\n",
    "    data = np.append(data, this_data, axis = 0)\n",
    "\n",
    "print(endTime - firststartTime)\n",
    "print(data.shape)"
   ]
  },
  {
   "cell_type": "code",
   "execution_count": 17,
   "id": "d1020a37",
   "metadata": {
    "ExecuteTime": {
     "end_time": "2023-11-26T04:24:20.425519Z",
     "start_time": "2023-11-26T04:24:20.413127Z"
    }
   },
   "outputs": [
    {
     "name": "stdout",
     "output_type": "stream",
     "text": [
      "(5856,)\n"
     ]
    }
   ],
   "source": [
    "# Records 3 class labels in np.ndarray\n",
    "Normal1 = np.asarray([\"NORMAL\" for i in range(1349)])\n",
    "Viral1 = np.asarray([\"VIRAL\" for i in range(1345)])\n",
    "Bacterial1 = np.asarray([\"BACTERIAL\" for i in range(2538)])\n",
    "Normal2 = np.asarray([\"NORMAL\" for i in range(234)])\n",
    "Viral2 = np.asarray([\"VIRAL\" for i in range(148)])\n",
    "Bacterial2 = np.asarray([\"BACTERIAL\" for i in range(242)])\n",
    "labs = np.append(Normal1, Viral1, axis = 0)\n",
    "labs = np.append(labs, Bacterial1, axis = 0)\n",
    "labs = np.append(labs, Normal2, axis = 0)\n",
    "labs = np.append(labs, Viral2, axis = 0)\n",
    "labs = np.append(labs, Bacterial2, axis = 0)\n",
    "\n",
    "assert labs.shape[0] == data.shape[0]\n",
    "\n",
    "print(labs.shape)"
   ]
  },
  {
   "cell_type": "code",
   "execution_count": 18,
   "id": "833f08d0",
   "metadata": {
    "ExecuteTime": {
     "end_time": "2023-11-26T04:24:20.441330Z",
     "start_time": "2023-11-26T04:24:20.427023Z"
    }
   },
   "outputs": [
    {
     "name": "stdout",
     "output_type": "stream",
     "text": [
      "(5856,)\n"
     ]
    }
   ],
   "source": [
    "# Records 2 class labels in np.ndarray\n",
    "Infected1 = np.asarray([\"INFECTED\" for i in range(1345 + 2538)])\n",
    "Infected2 = np.asarray([\"INFECTED\" for i in range(148 + 242)])\n",
    "\n",
    "labs2 = np.append(Normal1, Infected1, axis = 0)\n",
    "labs2 = np.append(labs2, Normal2, axis = 0)\n",
    "labs2 = np.append(labs2, Infected2, axis = 0)\n",
    "\n",
    "assert labs2.shape[0] == data.shape[0]\n",
    "\n",
    "print(labs2.shape)"
   ]
  },
  {
   "cell_type": "markdown",
   "id": "c2682890",
   "metadata": {},
   "source": [
    "Using pixDesired = 100 resulted in a total data reading time of roughly 46 seconds. Using pixDesired = 500 resulted in a total time of 320 seconds. An interesting extension to the project would be measuring accuracy vs. pixDesired over perhaps an order of magnitude of pixDesired. With the 500 pixDesired, we would need an extra 10 GB of RAM to run the NMF, which is way too much. I'll stick with pixDesired = 100 for now and probably try larger value later. Note that this will severly damage accuracy.\n",
    "\n",
    "### PCA\n",
    "We would then perform PCA to reduce the data to more manageable size."
   ]
  },
  {
   "cell_type": "code",
   "execution_count": 19,
   "id": "ec674813",
   "metadata": {
    "ExecuteTime": {
     "end_time": "2023-11-26T04:27:22.520672Z",
     "start_time": "2023-11-26T04:24:20.443277Z"
    }
   },
   "outputs": [
    {
     "name": "stdout",
     "output_type": "stream",
     "text": [
      "182.06255674362183\n",
      "(5856, 1533)\n"
     ]
    }
   ],
   "source": [
    "#Perform PCA. We will use a minimum explained variance of 0.98 so as to prevent inhibiting our models from successfully categorizing the X-Rays\n",
    "min_var_explained = 0.98\n",
    "pca = PCA(n_components = min_var_explained, svd_solver = \"full\")\n",
    "\n",
    "startTime = time.time()\n",
    "reducedData = pca.fit_transform(data)\n",
    "endTime = time.time()\n",
    "\n",
    "# Print result summary\n",
    "print(endTime - startTime)\n",
    "print(reducedData.shape)"
   ]
  },
  {
   "cell_type": "code",
   "execution_count": 20,
   "id": "7139bf72",
   "metadata": {
    "ExecuteTime": {
     "end_time": "2023-11-26T04:28:58.079752Z",
     "start_time": "2023-11-26T04:28:52.710694Z"
    }
   },
   "outputs": [
    {
     "name": "stdout",
     "output_type": "stream",
     "text": [
      "5.357702732086182\n"
     ]
    }
   ],
   "source": [
    "#Write the resulting data to a csv so that we don't need to process it again in future analysis\n",
    "startTime = time.time()\n",
    "np.savetxt(\"reducedData.csv\", reducedData, delimiter=\",\")\n",
    "endTime = time.time()\n",
    "print(endTime - startTime)"
   ]
  },
  {
   "cell_type": "markdown",
   "id": "d3eedbb3",
   "metadata": {},
   "source": [
    "### EDA\n",
    "We would now do some basic EDA on the reduced data"
   ]
  },
  {
   "cell_type": "code",
   "execution_count": 21,
   "id": "8bbe7ef9",
   "metadata": {
    "ExecuteTime": {
     "end_time": "2023-11-26T04:29:47.080279Z",
     "start_time": "2023-11-26T04:29:46.695507Z"
    }
   },
   "outputs": [
    {
     "data": {
      "image/png": "[encoded data removed]",
      "text/plain": [
       "<Figure size 640x480 with 1 Axes>"
      ]
     },
     "metadata": {},
     "output_type": "display_data"
    }
   ],
   "source": [
    "# Make histogram of max values\n",
    "maxes = list(np.max(data, axis = 1))\n",
    "plt.hist(maxes)\n",
    "plt.xlabel(\"Maximum brightness of pixel\")\n",
    "plt.ylabel(\"Number of images\")\n",
    "plt.title(\"Histogram of Maximum Pixel Brightness over All Images\")\n",
    "plt.show()"
   ]
  },
  {
   "cell_type": "code",
   "execution_count": 22,
   "id": "25168be9",
   "metadata": {
    "ExecuteTime": {
     "end_time": "2023-11-26T04:29:52.731902Z",
     "start_time": "2023-11-26T04:29:52.591078Z"
    }
   },
   "outputs": [
    {
     "data": {
      "image/png": "[encoded data removed]",
      "text/plain": [
       "<Figure size 640x480 with 1 Axes>"
      ]
     },
     "metadata": {},
     "output_type": "display_data"
    }
   ],
   "source": [
    "mins = np.min(data, axis = 1)\n",
    "plt.hist(mins)\n",
    "plt.xlabel(\"Minimum brightness of pixel\")\n",
    "plt.ylabel(\"Number of images\")\n",
    "plt.title(\"Histogram of Minimum Pixel Brightness over All Images\")\n",
    "plt.show()"
   ]
  },
  {
   "cell_type": "code",
   "execution_count": 23,
   "id": "87d77ce0",
   "metadata": {
    "ExecuteTime": {
     "end_time": "2023-11-26T04:29:56.060703Z",
     "start_time": "2023-11-26T04:29:55.911603Z"
    }
   },
   "outputs": [
    {
     "data": {
      "image/png": "[encoded data removed]",
      "text/plain": [
       "<Figure size 640x480 with 1 Axes>"
      ]
     },
     "metadata": {},
     "output_type": "display_data"
    }
   ],
   "source": [
    "means = np.mean(data, axis = 1)\n",
    "plt.hist(means)\n",
    "plt.xlabel(\"Mean brightness of pixel\")\n",
    "plt.ylabel(\"Number of images\")\n",
    "plt.title(\"Histogram of Mean Pixel Brightness over All Images\")\n",
    "plt.show()"
   ]
  },
  {
   "cell_type": "code",
   "execution_count": null,
   "id": "86b5f817",
   "metadata": {},
   "outputs": [],
   "source": []
  }
 ],
 "metadata": {
  "kernelspec": {
   "display_name": "Python 3 (ipykernel)",
   "language": "python",
   "name": "python3"
  },
  "language_info": {
   "codemirror_mode": {
    "name": "ipython",
    "version": 3
   },
   "file_extension": ".py",
   "mimetype": "text/x-python",
   "name": "python",
   "nbconvert_exporter": "python",
   "pygments_lexer": "ipython3",
   "version": "3.9.13"
  },
  "toc": {
   "base_numbering": 1,
   "nav_menu": {},
   "number_sections": true,
   "sideBar": true,
   "skip_h1_title": true,
   "title_cell": "Table of Contents",
   "title_sidebar": "Contents",
   "toc_cell": false,
   "toc_position": {},
   "toc_section_display": true,
   "toc_window_display": false
  }
 },
 "nbformat": 4,
 "nbformat_minor": 5
}
