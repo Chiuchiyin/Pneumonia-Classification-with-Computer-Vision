{
 "cells": [
  {
   "cell_type": "markdown",
   "id": "92c0925b",
   "metadata": {},
   "source": [
    "# Final Project for DTSA-5510\n",
    "\n",
    "Kevin Juandi <br> 2023-11-25<br> https://github.com/Chiuchiyin/\n",
    "\n",
    "## Introduction and Problem Description\n",
    "\n",
    "Welcome to my final project for DTSA-5510! Before running this notebook, please ensure you have all required dependancies installed in your build. All required packages are listed in the next section. If you want to run the code, some parts of the code might take very long time to run. At the time of this writing, I have not attempted to train a model but I expect it to take a couple of hours. Please be patient with it. Thank you for reviewing my project!\n",
    "\n",
    "For the previous module **DTSA-5509**, I worked on [Heartbeat ECG Classification](https://github.com/Chiuchiyin/Heartbeat-ECG-Classification). I would like to expand my repetoire in health analytics and have decided to work on Pneumonia Classification.\n",
    "\n",
    "The data I will use can be found at Mendeley Data[<sup>[1]</sup>](https://data.mendeley.com/datasets/rscbjbr9sj/3). The data contain images of both chest X-Rays and Optical Coherence Tomography. The original paper uses deep learning algorithm which I would not attempt to replicate due to computational requirements. I will just use the chest X-rays in this project. I have included the data in the Github Repository so if you decided to download the data so you don't have to download the entire dataset and extract them yourself.\n",
    "\n",
    "The chest X-ray data in \"train\" contains 1.18 GB of data - consisting of 5233 \"normal\" chest X-rays, 1345 X-rays with viral pneumonia, and 2538 X-rays with bacterial pneumonia. The \"test\" data contains 105 MB of data - there are 235 \"normal\" chest X-rays, 626 with viral pneumonia, and 242 with bacterial pneumonia.\n",
    "\n",
    "## Loading dependancies"
   ]
  },
  {
   "cell_type": "code",
   "execution_count": 3,
   "id": "fc5d92e0",
   "metadata": {
    "ExecuteTime": {
     "end_time": "2023-11-25T10:41:27.246680Z",
     "start_time": "2023-11-25T10:41:27.230787Z"
    }
   },
   "outputs": [],
   "source": [
    "import numpy as np\n",
    "import pandas as pd\n",
    "import seaborn as sns\n",
    "import cv2 as cv\n",
    "import matplotlib.pyplot as plt\n",
    "import os\n",
    "import math\n",
    "from sklearn.decomposition import PCA, NMF\n",
    "from sklearn.cluster import KMeans, AgglomerativeClustering, DBSCAN\n",
    "from sklearn.metrics import confusion_matrix, accuracy_score, precision_score, recall_score\n",
    "from sklearn.metrics.pairwise import cosine_similarity\n",
    "from sklearn.ensemble import RandomForestClassifier\n",
    "import time\n",
    "import itertools\n",
    "import random"
   ]
  },
  {
   "cell_type": "markdown",
   "id": "b3659e07",
   "metadata": {},
   "source": [
    "## Helper functions\n",
    "We would use these functions to reduce clutter"
   ]
  },
  {
   "cell_type": "code",
   "execution_count": 10,
   "id": "820ead2a",
   "metadata": {
    "ExecuteTime": {
     "end_time": "2023-11-25T12:40:46.578353Z",
     "start_time": "2023-11-25T12:40:46.560673Z"
    }
   },
   "outputs": [],
   "source": [
    "# Function to read a file into numpy.\n",
    "def readXRay(path, pixDesired = 1000, n_imgs = \"use all\"):\n",
    "    \"\"\"\n",
    "        input: string path, of form (\"./data/ os.listdir(parent directory)\n",
    "        input: int pixDesired, the number of pixels pixDesired X pixDesired in which to read the data. If None, no transformation is performed.\n",
    "        input: int n_imgs, number of images to be read from file. Preset is string \"use all\", which uses all the images in the provided path.\n",
    "        output: np.ndarray data\n",
    "    \"\"\"\n",
    "    \n",
    "    # Initialize data\n",
    "    firstImagePath = path + os.listdir(path)[0]\n",
    "    firstPic = cv.imread(firstImagePath, 0)\n",
    "    if pixDesired != None:\n",
    "        data = cv.resize(firstPic, (pixDesired, pixDesired))\n",
    "        data = data.reshape(1, pixDesired ** 2)# If performance allows, increase resize!\n",
    "    else:\n",
    "        data = data.reshape(1, firstPic.shape[0] * firstPic.shape[1])\n",
    "    \n",
    "    # Populate data\n",
    "    \n",
    "    if n_imgs == \"use all\":\n",
    "        for img in os.listdir(path)[1:]:\n",
    "            filepath = path + img\n",
    "            pic = cv.imread(filepath, 0)\n",
    "            if pixDesired != None:\n",
    "                pic = cv.resize(pic, (pixDesired, pixDesired))\n",
    "                pic = pic.reshape(1, pixDesired ** 2)\n",
    "            else:\n",
    "                pic = pic.reshape(1, pic.shape[0] * pic.shape[1])\n",
    "            \n",
    "            data = np.append(data, pic, axis = 0)\n",
    "            \n",
    "    else:\n",
    "        for img in os.listdir(path)[1:n_imgs]:\n",
    "            filepath = path + img\n",
    "            pic = cv.imread(filepath, 0)\n",
    "            if pixDesired != None:\n",
    "                pic = cv.resize(pic, (pixDesired, pixDesired)) # If performance allows, increase resize!\n",
    "                pic = pic.reshape(1, pixDesired ** 2)\n",
    "            else:\n",
    "                pic = pic.reshape(1, pic.shape[0] * pic.shape[1])\n",
    "            \n",
    "            data = np.append(data, pic, axis = 0)\n",
    "        \n",
    "    return(data)"
   ]
  },
  {
   "cell_type": "markdown",
   "id": "86a7ceb4",
   "metadata": {},
   "source": [
    "## Load the Data"
   ]
  },
  {
   "cell_type": "code",
   "execution_count": 14,
   "id": "5a4410d6",
   "metadata": {
    "ExecuteTime": {
     "end_time": "2023-11-25T12:43:57.188566Z",
     "start_time": "2023-11-25T12:43:57.174323Z"
    }
   },
   "outputs": [
    {
     "name": "stdout",
     "output_type": "stream",
     "text": [
      "C:\\Users\\silve\\OneDrive\\Dokumente\\Github\\DTSA5510-Unsupervised-Learning-Final-Project\\chest_xray\n"
     ]
    },
    {
     "data": {
      "text/plain": [
       "['test', 'train']"
      ]
     },
     "execution_count": 14,
     "metadata": {},
     "output_type": "execute_result"
    }
   ],
   "source": [
    "%cd \"./chest_xray/\"\n",
    "\n",
    "os.listdir()"
   ]
  },
  {
   "cell_type": "code",
   "execution_count": 16,
   "id": "d7d7aa6c",
   "metadata": {
    "ExecuteTime": {
     "end_time": "2023-11-25T12:44:13.419267Z",
     "start_time": "2023-11-25T12:44:13.364841Z"
    }
   },
   "outputs": [
    {
     "name": "stdout",
     "output_type": "stream",
     "text": [
      "(2476, 2572)\n",
      "0.038080692291259766\n"
     ]
    }
   ],
   "source": [
    "# Example XRay. Citation https://www.geeksforgeeks.org/python-opencv-cv2-imshow-method/\n",
    "# Set file path\n",
    "startTime = time.time()\n",
    "repopath = \"./train/\" + \"NORMAL/\"\n",
    "filepath = repopath + os.listdir(repopath)[0]\n",
    "\n",
    "#Read in test image\n",
    "testpic = cv.imread(filepath, 0)\n",
    "#testpic = cv.resize(testpic, (256, 256))\n",
    "\n",
    "endTime = time.time()\n",
    "\n",
    "##Show test image\n",
    "#testWindow = \"Example XRAY. This is a healthy lung.\"\n",
    "#cv.imshow(testWindow, testpic)\n",
    "#cv.waitKey(0)  #Wait for the user to press a key before closing the window\n",
    "#cv.destroyAllWindows() \n",
    "\n",
    "print(testpic.shape)\n",
    "print(endTime - startTime)"
   ]
  },
  {
   "cell_type": "code",
   "execution_count": 19,
   "id": "c8a34fd2",
   "metadata": {
    "ExecuteTime": {
     "end_time": "2023-11-25T12:50:51.530762Z",
     "start_time": "2023-11-25T12:50:04.789750Z"
    }
   },
   "outputs": [
    {
     "name": "stdout",
     "output_type": "stream",
     "text": [
      "17.501272439956665\n",
      "(1349, 10000)\n",
      "6.932614803314209\n",
      "(1345, 10000)\n",
      "16.23611283302307\n",
      "(2538, 10000)\n",
      "2.336109161376953\n",
      "(234, 10000)\n",
      "1.498124122619629\n",
      "(148, 10000)\n",
      "2.1744823455810547\n",
      "(242, 10000)\n",
      "46.7120566368103\n",
      "(5856, 10000)\n"
     ]
    }
   ],
   "source": [
    "# Set up paths of repositories to read data from\n",
    "paths = [\"./train/NORMAL/\", \"./train/VIRAL/\", \"./train/BACTERIAL/\", \n",
    "         \"./test/NORMAL/\", \"./test/VIRAL/\", \"./test/BACTERIAL/\"]\n",
    "\n",
    "#Initialize data\n",
    "firststartTime = time.time()\n",
    "data = readXRay(path = paths[0], pixDesired = 100, n_imgs = \"use all\")\n",
    "firstendTime = time.time()\n",
    "print(firstendTime - firststartTime) #How long did this repo take to convert?\n",
    "print(data.shape) #How many files in this repo?\n",
    "\n",
    "#Populate data with the other repositories\n",
    "for path in paths[1:]:\n",
    "    startTime = time.time()\n",
    "    this_data = readXRay(path = path, pixDesired = 100, n_imgs = \"use all\")\n",
    "    endTime = time.time()\n",
    "\n",
    "    print(endTime - startTime) #How long did this repo take to convert?\n",
    "    print(this_data.shape) #How many files in this repo?\n",
    "    data = np.append(data, this_data, axis = 0)\n",
    "\n",
    "print(endTime - firststartTime)\n",
    "print(data.shape)"
   ]
  },
  {
   "cell_type": "code",
   "execution_count": 20,
   "id": "af457d92",
   "metadata": {
    "ExecuteTime": {
     "end_time": "2023-11-25T12:51:07.527995Z",
     "start_time": "2023-11-25T12:51:07.519102Z"
    }
   },
   "outputs": [
    {
     "name": "stdout",
     "output_type": "stream",
     "text": [
      "(5856,)\n"
     ]
    }
   ],
   "source": [
    "# Records 3 class labels in np.ndarray\n",
    "Normal1 = np.asarray([\"NORMAL\" for i in range(1349)])\n",
    "Viral1 = np.asarray([\"VIRAL\" for i in range(1345)])\n",
    "Bacterial1 = np.asarray([\"BACTERIAL\" for i in range(2538)])\n",
    "Normal2 = np.asarray([\"NORMAL\" for i in range(234)])\n",
    "Viral2 = np.asarray([\"VIRAL\" for i in range(148)])\n",
    "Bacterial2 = np.asarray([\"BACTERIAL\" for i in range(242)])\n",
    "labs = np.append(Normal1, Viral1, axis = 0)\n",
    "labs = np.append(labs, Bacterial1, axis = 0)\n",
    "labs = np.append(labs, Normal2, axis = 0)\n",
    "labs = np.append(labs, Viral2, axis = 0)\n",
    "labs = np.append(labs, Bacterial2, axis = 0)\n",
    "\n",
    "assert labs.shape[0] == data.shape[0]\n",
    "\n",
    "print(labs.shape)"
   ]
  },
  {
   "cell_type": "code",
   "execution_count": 21,
   "id": "73032500",
   "metadata": {
    "ExecuteTime": {
     "end_time": "2023-11-25T12:51:58.433740Z",
     "start_time": "2023-11-25T12:51:58.416157Z"
    }
   },
   "outputs": [
    {
     "name": "stdout",
     "output_type": "stream",
     "text": [
      "(5856,)\n"
     ]
    }
   ],
   "source": [
    "# Records 2 class labels in np.ndarray\n",
    "Infected1 = np.asarray([\"INFECTED\" for i in range(1345 + 2538)])\n",
    "Infected2 = np.asarray([\"INFECTED\" for i in range(148 + 242)])\n",
    "\n",
    "labs2 = np.append(Normal1, Infected1, axis = 0)\n",
    "labs2 = np.append(labs2, Normal2, axis = 0)\n",
    "labs2 = np.append(labs2, Infected2, axis = 0)\n",
    "\n",
    "assert labs2.shape[0] == data.shape[0]\n",
    "\n",
    "print(labs2.shape)"
   ]
  },
  {
   "cell_type": "code",
   "execution_count": null,
   "id": "08a15a95",
   "metadata": {},
   "outputs": [],
   "source": []
  }
 ],
 "metadata": {
  "kernelspec": {
   "display_name": "Python 3 (ipykernel)",
   "language": "python",
   "name": "python3"
  },
  "language_info": {
   "codemirror_mode": {
    "name": "ipython",
    "version": 3
   },
   "file_extension": ".py",
   "mimetype": "text/x-python",
   "name": "python",
   "nbconvert_exporter": "python",
   "pygments_lexer": "ipython3",
   "version": "3.9.13"
  },
  "toc": {
   "base_numbering": 1,
   "nav_menu": {},
   "number_sections": true,
   "sideBar": true,
   "skip_h1_title": true,
   "title_cell": "Table of Contents",
   "title_sidebar": "Contents",
   "toc_cell": false,
   "toc_position": {},
   "toc_section_display": true,
   "toc_window_display": false
  }
 },
 "nbformat": 4,
 "nbformat_minor": 5
}
