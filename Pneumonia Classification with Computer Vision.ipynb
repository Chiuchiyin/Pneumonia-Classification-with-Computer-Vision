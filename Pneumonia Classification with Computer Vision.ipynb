{
 "cells": [
  {
   "cell_type": "markdown",
   "id": "92c0925b",
   "metadata": {},
   "source": [
    "# Final Project for DTSA-5510\n",
    "\n",
    "Kevin Juandi <br> 2023-11-25<br> https://github.com/Chiuchiyin/\n",
    "\n",
    "## Introduction and Problem Description\n",
    "\n",
    "Welcome to my final project for DTSA-5510! Before running this notebook, please ensure you have all required dependancies installed in your build. All required packages are listed in the next section. If you want to run the code, some parts of the code might take very long time to run. Please be patient with it. Thank you for reviewing my project!"
   ]
  },
  {
   "cell_type": "code",
   "execution_count": 2,
   "id": "fc5d92e0",
   "metadata": {
    "ExecuteTime": {
     "end_time": "2023-11-25T04:21:15.394002Z",
     "start_time": "2023-11-25T04:21:15.375849Z"
    }
   },
   "outputs": [],
   "source": [
    "import numpy as np\n",
    "import pandas as pd\n",
    "import seaborn as sns\n",
    "import cv2 as cv\n",
    "import matplotlib.pyplot as plt\n",
    "import os\n",
    "import math\n",
    "from sklearn.decomposition import PCA, NMF\n",
    "from sklearn.cluster import KMeans, AgglomerativeClustering, DBSCAN\n",
    "from sklearn.metrics import confusion_matrix, accuracy_score, precision_score, recall_score\n",
    "from sklearn.metrics.pairwise import cosine_similarity\n",
    "from sklearn.ensemble import RandomForestClassifier\n",
    "import time\n",
    "import itertools\n",
    "import random"
   ]
  },
  {
   "cell_type": "code",
   "execution_count": null,
   "id": "d7d7aa6c",
   "metadata": {},
   "outputs": [],
   "source": []
  }
 ],
 "metadata": {
  "kernelspec": {
   "display_name": "Python 3 (ipykernel)",
   "language": "python",
   "name": "python3"
  },
  "language_info": {
   "codemirror_mode": {
    "name": "ipython",
    "version": 3
   },
   "file_extension": ".py",
   "mimetype": "text/x-python",
   "name": "python",
   "nbconvert_exporter": "python",
   "pygments_lexer": "ipython3",
   "version": "3.9.13"
  },
  "toc": {
   "base_numbering": 1,
   "nav_menu": {},
   "number_sections": true,
   "sideBar": true,
   "skip_h1_title": true,
   "title_cell": "Table of Contents",
   "title_sidebar": "Contents",
   "toc_cell": false,
   "toc_position": {},
   "toc_section_display": true,
   "toc_window_display": false
  }
 },
 "nbformat": 4,
 "nbformat_minor": 5
}
